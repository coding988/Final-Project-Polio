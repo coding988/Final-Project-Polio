{
  "cells": [
    {
      "cell_type": "markdown",
      "metadata": {},
      "source": [
        "---\n",
        "\n",
        "title: \"Write-up POLIO TRENDS\"\n",
        "author: \"Ashirwad, Mahnoor, and Anand\"\n",
        "date: \"December 7, 2024\"\n",
        "header-includes: |\n",
        "  \\usepackage{fvextra}\n",
        "  \\DefineVerbatimEnvironment{Highlighting}{Verbatim}{breaklines,commandchars=\\\\\\{\\}}\n",
        "include-before-body: |\n",
        "  \\RecustomVerbatimEnvironment{verbatim}{Verbatim}{\n",
        "    showspaces = false,\n",
        "    showtabs = false,\n",
        "    breaksymbolleft={},\n",
        "    breaklines\n",
        "  }\n",
        "output: pdf\n",
        "---\n",
        "\n",
        "\n",
        "\n",
        "# Project Write-Up: Interconnections between Immunization and Open Defecation Policies on Polio Cases\n",
        "## Primary Purpose\n",
        "This study aims to assess how the interconnections between immunization efforts and open defecation policies have influenced the prevalence of poliovirus cases across nations. The analysis draws on three datasets:\n",
        "# 1.  \tPolio immunization data: Tracking vaccine administration rates.\n",
        "# 2.  \tCountry-wise open defecation percentage rates: Evaluating sanitation practices.\n",
        "# 3.  \tPrevalence of polio cases: Assessing national polio burden.\n",
        "Reported cases of paralytic polio often underestimate actual cases due to under-detection, including unreported acute flaccid paralysis (AFP) cases and inadequate stool sample testing for poliovirus. To adjust for this, Tebbens et al. developed a method using two indicators: non-polio AFP rates (to gauge detection quality) and the percentage of AFP cases with adequate stool samples. They derived correction factors, ranging from 7 for poor surveillance to 1.11 for robust systems, applied to estimate true case numbers. This approach evolved from uniform correction factors in pre-1995 to refined metrics post-1995, enabling more accurate estimates globally, including for countries beyond GPEI support.\n",
        "The data, sourced from the World Bank and UNICEF, forms the foundation for an interactive dashboard designed to provide users with a comprehensive understanding of country-level interactions between these variables and their impact on polio prevalence.\n",
        "## Introduction\n",
        "Polio is a debilitating waterborne disease that affects the nervous system, leading to paralysis. While many countries have eradicated polio, others still grapple with poliovirus cases. Global collective efforts, including vaccination and sanitation improvement initiatives, have played a critical role in combating polio outbreaks.This project explores the relationship between polio vaccination rates, open defecation policies, and the prevalence of estimated polio cases to identify patterns and inform future strategies for polio eradication.\n",
        "## Research Question\n",
        "How do global trends in estimated polio cases correlate with immunization coverage and prevalence of open-defecation across countries from 2000 to 2020?\n",
        "# Methodology & Visualizations\n",
        "## 1.     NLP Analysis\n",
        "The NLP analysis of articles on polio emergence, prevalence, and eradication provided valuable insights into the thematic focus of the discussions. By analyzing the frequency of keywords such as \"vaccines,\" \"sanitation,\" \"immunization,\" \"open defecation,\" and \"sewage,\" we were able to identify the dominant themes and gaps in the narrative, which informed the development of our research question and the selection of relevant indicators.\n",
        "# ·       Identifying Dominant Themes:\n",
        " The keyword \"vaccines\" appeared 55 times, making it the most frequently mentioned term. This underscores the centrality of vaccination efforts in combating polio. Similarly, \"immunization\" appeared 28 times, further emphasizing the focus on preventative measures through vaccine distribution and coverage. These findings directed our attention toward immunization rates as a critical indicator to analyze polio prevalence and eradication efforts.\n",
        "# ·       Recognizing Complementary Factors:\n",
        " Keywords related to sanitation, such as \"sanitation\" (4 mentions) and \"sewage\" (9 mentions), were less frequently discussed, while \"open defecation\" was not mentioned at all. This suggests that while these factors might not be as prominently featured in the discourse, they are still relevant in understanding the broader context of polio transmission, especially in areas with poor hygiene and sanitation infrastructure. These insights justified the inclusion of open defecation rates as a complementary indicator to examine environmental conditions that may contribute to polio outbreaks.\n",
        "# ·       Framing the Research Question:\n",
        " Based on the analysis, we framed our research question to explore the interplay between immunization efforts and environmental factors in reducing polio cases. Specifically, we aimed to investigate:\n",
        "# o   How do immunization rates correlate with the prevalence of polio cases across countries?\n",
        "# o   What role do sanitation and hygiene indicators, such as open defecation rates, play in polio transmission?\n",
        "# ·       Selecting Indicators:\n",
        " The keyword analysis reinforced the importance of using immunization rates as a primary indicator, given their prominence in the literature. To capture environmental and hygiene-related factors, open defecation rates were used as a proxy to assess the impact of sanitation practices in polio eradication or persistence in certain countries.\n",
        "## 2.     Static Visualization using Altair:\n",
        "Using three datasets providing country-wide data from 2000–2020 on open defecation rates, immunization rates, and estimated polio cases, we undertook extensive data cleaning and transformation. The steps included reshaping the data, renaming variables for clarity, handling columns with missing values, and merging the datasets on country codes. Duplicate entries were removed to ensure consistency.\n",
        "For the static visualizations, we focused on countries with persistently high polio cases over the two decades. To achieve this, the data was filtered by grouping and identifying the top ten countries with the highest estimated polio cases. This selection helped narrow our analysis to key hotspot countries, allowing for more focused visualizations. Two separate plots were created to assess these countries' immunization rates and open defecation rates, respectively. This approach provided insight into the possible relationships between these factors and polio prevalence.\n",
        "Bubble charts were incorporated in both the visualizations due to the differing units of analysis: immunization and open defecation rates are percentages, while polio cases are absolute numbers. This representation bridged the gap, making it easier to understand correlations and trends within the data.\n",
        "\n",
        "\n",
        "### Heatmap (Correlation of Open-defecation rates with estimated polio rates)\n"
      ],
      "id": "bacbb401"
    },
    {
      "cell_type": "code",
      "metadata": {},
      "source": [
        "from IPython.display import Image\n",
        "Image(filename=r\"C:\\Users\\arifm\\OneDrive\\Documents\\GitHub\\Final-Project-Polio\\Images\\heatmap.png\")"
      ],
      "id": "9e815813",
      "execution_count": null,
      "outputs": []
    },
    {
      "cell_type": "markdown",
      "metadata": {},
      "source": [
        "The heatmap illustrates the trends in open defecation rates and their potential relationship with polio cases for the top 10 countries reporting polio cases over time. The color intensity represents the percentage of open defecation rates, with darker shades of green indicating higher rates and lighter shades showing lower rates. Overlaying this is a bubble chart where the bubble size corresponds to the number of estimated polio cases.\n",
        "\n",
        "Countries like India and Ethiopia, which historically had high open defecation rates (dark green), have seen significant declines over the years (lighter green). Similarly, other countries, including Pakistan and Afghanistan, have also shown reductions in open defecation rates. However, the size of the bubbles, representing polio cases, does not consistently correlate with the decline in open defecation rates. For instance, while India experienced a steep reduction in both open defecation rates and polio cases, Pakistan and Afghanistan, despite reductions in open defecation, remain endemic for polio.\n",
        "\n",
        "\n",
        "### Bubblemap (Correlation of polio immunization rates with estimated polio cases)\n"
      ],
      "id": "2d6f014a"
    },
    {
      "cell_type": "code",
      "metadata": {},
      "source": [
        "from IPython.display import Image\n",
        "Image(filename=r\"C:\\Users\\arifm\\OneDrive\\Documents\\GitHub\\Final-Project-Polio\\Images\\bubble_map.png\")"
      ],
      "id": "40375eb0",
      "execution_count": null,
      "outputs": []
    },
    {
      "cell_type": "markdown",
      "metadata": {},
      "source": [
        "To examine the correlation between immunization rates and estimated polio cases, we created a bubble chart. The color of the bubbles represents immunization rates, while the bubble size corresponds to the average number of estimated polio cases, providing an intuitive understanding of the data. Countries shaded in green and yellow represent high immunization rates and are also the ones with significantly reduced or eradicated cases. In contrast, countries in purple and blue show relatively lower immunization rates and continue to face outbreaks. Over the past two decades, cases have declined in all 10 countries; however, Pakistan and Afghanistan remain endemic, as highlighted in the data. Low immunization rates can be considered a contributing factor to this persistence.\n",
        "\n",
        "## Shiny App\n",
        "\n",
        "Limitations\n",
        "Efforts to combat polio face significant challenges related to data accuracy and contextual understanding. Underreporting and discrepancies in polio outbreak data hinder effective surveillance and response. National-level aggregation of data obscures regional disparities and outbreak hotspots, preventing targeted interventions. Additionally, there is limited research on the influence of conflict, water insecurity, and climate change on polio outbreaks, which are critical factors in at-risk regions. A further challenge is the lack of comprehensive data on the cultural, social, and ethnographic drivers of vaccine hesitancy in affected communities. Addressing these gaps is essential to designing informed, localized strategies for eradicating polio.\n",
        "\n",
        "\n",
        "## Conclusions \n",
        "\n",
        "In conclusion, while there is a positive correlation between immunization rates and polio cases, highlighting the critical role of vaccination in combating the disease, the lack of a direct correlation between open defecation rates and polio cases suggests that other factors may influence disease transmission. Additionally, the emergence of vaccine-derived polio presents a new challenge for global eradication efforts, emphasizing the need for sustained immunization campaigns and robust public health strategies.\n",
        " \n",
        " ## Way Forward\n",
        "To achieve global polio eradication, a comprehensive, multi-pronged strategy is essential. Enhanced vaccination coverage is paramount, requiring over 95% immunization rates to \n",
        "sustain herd immunity and prevent outbreaks. Both oral and injectable vaccines must be promoted to minimize cases of vaccine-derived polio. Behavioral and social interventions \n",
        "are critical in addressing vaccine hesitancy through targeted awareness campaigns, leveraging partnerships with NGOs, religious groups, and governments to expand early childhood immunization outreach. Equally important is sanitation improvement, which includes developing wet toilets, promoting safe disposal practices, and passing legislation to phase out dry latrines while supporting sustainable sewage systems. Access to clean water must be ensured through robust purification systems and public education on boiling water to eliminate poliovirus risks.\n",
        "Conflict and migration pose unique challenges in the global project of polio eradication. Targeted interventions are required to rebuild infrastructure, such as safe water and sanitation facilities in conflict zones, and to provide immunization services in refugee camps. Finally, global coordination is necessary to harmonize vaccination strategies and promote the combined use of oral and injectable vaccines, while fostering knowledge-sharing and financial support for low-income countries. These coordinated efforts must address not only immunization and sanitation but also broader socio-political barriers to ensure a sustainable, polio-free future.\n"
      ],
      "id": "309f0299"
    }
  ],
  "metadata": {
    "kernelspec": {
      "name": "python3",
      "language": "python",
      "display_name": "Python 3 (ipykernel)",
      "path": "C:\\Users\\arifm\\AppData\\Roaming\\Python\\share\\jupyter\\kernels\\python3"
    }
  },
  "nbformat": 4,
  "nbformat_minor": 5
}